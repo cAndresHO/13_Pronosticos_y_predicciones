{
 "cells": [
  {
   "cell_type": "markdown",
   "metadata": {},
   "source": [
    "# Descripción del proyecto\n",
    "La cadena de gimnasios Model Fitness está desarrollando una estrategia de interacción con clientes basada en datos analíticos.\n",
    "\n",
    "Uno de los problemas más comunes que enfrentan los gimnasios y otros servicios es la pérdida de clientes. ¿Cómo descubres si un/a cliente ya no está contigo? Puedes calcular la pérdida en función de las personas que se deshacen de sus cuentas o no renuevan sus contratos. Sin embargo, a veces no es obvio que un/a cliente se haya ido: puede que se vaya de puntillas.\n",
    "\n",
    "Los indicadores de pérdida varían de un campo a otro. En el caso de un gimnasio, tiene sentido decir que un/a cliente se ha ido si no viene durante un mes. Por lo general, si un/a cliente se une, viene varias veces y luego desaparece, es poco probable que regrese.\n",
    "\n",
    "Con el fin de combatir la cancelación, Model Fitness ha digitalizado varios de sus perfiles de clientes. El objetivo del proyecto consiste en analizarlos y elaborar una estrategia de retención de clientes.\n"
   ]
  },
  {
   "cell_type": "markdown",
   "metadata": {},
   "source": [
    "# Descripción de los datos\n",
    "- 'Churn' — la cancelación para el mes en cuestión\n",
    "\n",
    "Campos de dataset actuales:\n",
    "\n",
    "    Datos del usuario del mes anterior\n",
    "- 'gender'.\n",
    "- 'Near_Location' — si el/la usuario/a vive o trabaja en el vecindario donde se encuentra el gimnasio.\n",
    "- 'Partner' — si el/la usuario/a trabaja en una compañía asociada (el gimnasio tiene empresas asociadas cuyos empleados obtienen descuentos; en esos casos el gimnasio almacena información sobre los empleadores de los clientes).\n",
    "- Promo_friends — si el/la usuario/a originalmente se inscribió mediante una oferta “trae a un/a amigo/a” (se utilizó el código promocional de un/a amigo/a cuando pagaron el primer abono).\n",
    "- 'Phone' — si el/la usuario/a aportó el número de teléfono.\n",
    "- 'Age'.\n",
    "- 'Lifetime' — el tiempo (en meses) desde que el/la usuario/a llegó por primera vez al gimnasio.\n",
    "\n",
    "    Datos del registro de visitas y compras y datos sobre el estado actual de la membresía:\n",
    "- 'Contract_period' — 1 mes, 3 meses, 6 meses o 1 año.\n",
    "- 'Month_to_end_contract' — los meses que faltan hasta que expire el contrato.\n",
    "- 'Group_visits' — si el/la usuario/a participa en sesiones grupales.\n",
    "- 'Avg_class_frequency_total' — frecuencia media de visitas por semana a lo largo de la vida del cliente.\n",
    "- 'Avg_class_frequency_current_month' — frecuencia media de visitas por semana durante el mes en curso.\n",
    "- 'Avg_additional_charges_total' — cantidad total de dinero gastado en otros servicios del gimnasio: cafetería, productos deportivos, cosméticos, masajes, etc.\n"
   ]
  }
 ],
 "metadata": {
  "language_info": {
   "name": "python"
  }
 },
 "nbformat": 4,
 "nbformat_minor": 2
}
